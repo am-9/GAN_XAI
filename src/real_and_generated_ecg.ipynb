{
 "cells": [
  {
   "cell_type": "code",
   "execution_count": 22,
   "id": "d5165e4a",
   "metadata": {},
   "outputs": [],
   "source": [
    "from abc import ABC\n",
    "from torch import nn, Tensor, jit, randn, exp, cat, stack\n",
    "import numpy as np\n",
    "import torch\n",
    "import torch.nn.init as init\n",
    "import torch.optim as optim\n",
    "import torch.nn.functional as F\n",
    "from models.generators import EcgCNNGenerator\n",
    "from matplotlib import pyplot as plt\n",
    "import seaborn as sns"
   ]
  },
  {
   "cell_type": "code",
   "execution_count": 43,
   "id": "58c73b36",
   "metadata": {},
   "outputs": [
    {
     "ename": "SyntaxError",
     "evalue": "invalid syntax (2982682783.py, line 4)",
     "output_type": "error",
     "traceback": [
      "\u001b[0;36m  File \u001b[0;32m\"/var/folders/nz/gymhhtjx7_3fls3j_3_zgh200000gn/T/ipykernel_13323/2982682783.py\"\u001b[0;36m, line \u001b[0;32m4\u001b[0m\n\u001b[0;31m    import\u001b[0m\n\u001b[0m           ^\u001b[0m\n\u001b[0;31mSyntaxError\u001b[0m\u001b[0;31m:\u001b[0m invalid syntax\n"
     ]
    }
   ],
   "source": [
    "from torch.utils.data import ConcatDataset, DataLoader, sampler\n",
    "from torchvision import transforms, datasets\n",
    "import patient, ecg_mit_bih, dataset_configs, ecg_dataset_pytorch"
   ]
  },
  {
   "cell_type": "code",
   "execution_count": 9,
   "id": "6537cfea",
   "metadata": {},
   "outputs": [
    {
     "name": "stdout",
     "output_type": "stream",
     "text": [
      "done creating mit bih dataset\n",
      "training\n",
      "only take this heartbeat true\n",
      "updated\n",
      "length of data is  414\n"
     ]
    }
   ],
   "source": [
    "    composed = transforms.Compose([ecg_dataset_pytorch.ToTensor()])\n",
    "#     train_configs_N = dataset_configs.DatasetConfigs('train', one_vs_all=False, lstm_setting=False,\n",
    "#                                         over_sample_minority_class=False,\n",
    "#                                         under_sample_majority_class=False, only_take_heartbeat_of_type='N',\n",
    "#                                         classified_heartbeat='N')\n",
    "    \n",
    "#     train_configs_S = dataset_configs.DatasetConfigs('train', one_vs_all=False, lstm_setting=False,\n",
    "#                                     over_sample_minority_class=False,\n",
    "#                                     under_sample_majority_class=False, only_take_heartbeat_of_type='S',\n",
    "#                                     classified_heartbeat='S')\n",
    "\n",
    "#     train_configs_V = dataset_configs.DatasetConfigs('train', one_vs_all=False, lstm_setting=False,\n",
    "#                                 over_sample_minority_class=False,\n",
    "#                                 under_sample_majority_class=False, only_take_heartbeat_of_type='V',\n",
    "#                                 classified_heartbeat='V')\n",
    "\n",
    "    train_configs_F = dataset_configs.DatasetConfigs('train', one_vs_all=False, lstm_setting=False,\n",
    "                            over_sample_minority_class=False,\n",
    "                            under_sample_majority_class=False, only_take_heartbeat_of_type='F',\n",
    "                                classified_heartbeat='F')\n",
    "\n",
    "\n",
    "#     test_configs_N = dataset_configs.DatasetConfigs('test', one_vs_all=False, lstm_setting=False,\n",
    "#                                         over_sample_minority_class=False,\n",
    "#                                         under_sample_majority_class=False, only_take_heartbeat_of_type='N',\n",
    "#                                         classified_heartbeat='N')\n",
    "    \n",
    "#     test_configs_S = dataset_configs.DatasetConfigs('test', one_vs_all=False, lstm_setting=False,\n",
    "#                                     over_sample_minority_class=False,\n",
    "#                                     under_sample_majority_class=False, only_take_heartbeat_of_type='S',\n",
    "#                                     classified_heartbeat='S')\n",
    "        \n",
    "#     test_configs_V = dataset_configs.DatasetConfigs('test', one_vs_all=False, lstm_setting=False,\n",
    "#                                 over_sample_minority_class=False,\n",
    "#                                 under_sample_majority_class=False, only_take_heartbeat_of_type='V',\n",
    "#                                 classified_heartbeat='V')\n",
    "\n",
    "#     test_configs_F = dataset_configs.DatasetConfigs('test', one_vs_all=False, lstm_setting=False,\n",
    "#                             over_sample_minority_class=False,\n",
    "#                             under_sample_majority_class=False, only_take_heartbeat_of_type='F',\n",
    "#                             classified_heartbeat='F')\n",
    "    \n",
    "\n",
    "    #train_data_N = ecg_dataset_pytorch.EcgHearBeatsDatasetPytorch(transform=composed, configs=train_configs_N)\n",
    "#     train_data_V = ecg_dataset_pytorch.EcgHearBeatsDatasetPytorch(transform=composed, configs=train_configs_V)\n",
    "#     train_data_S = ecg_dataset_pytorch.EcgHearBeatsDatasetPytorch(transform=composed, configs=train_configs_S)\n",
    "    train_data_F = ecg_dataset_pytorch.EcgHearBeatsDatasetPytorch(transform=composed, configs=train_configs_F)\n",
    "    \n",
    "    \n",
    "    #test_data_N = ecg_dataset_pytorch.EcgHearBeatsDatasetPytorch(transform=composed, configs=test_configs_N)\n",
    "#     test_data_V = ecg_dataset_pytorch.EcgHearBeatsDatasetPytorch(transform=composed, configs=test_configs_V)\n",
    "#     test_data_S = ecg_dataset_pytorch.EcgHearBeatsDatasetPytorch(transform=composed, configs=test_configs_S)\n",
    "#     test_data_F = ecg_dataset_pytorch.EcgHearBeatsDatasetPytorch(transform=composed, configs=test_configs_F)\n"
   ]
  },
  {
   "cell_type": "code",
   "execution_count": 10,
   "id": "4f8953d3",
   "metadata": {},
   "outputs": [],
   "source": [
    "data = ConcatDataset([train_data_F])\n"
   ]
  },
  {
   "cell_type": "code",
   "execution_count": 11,
   "id": "beb32afa",
   "metadata": {},
   "outputs": [],
   "source": [
    "indices = [i for i in range(int(1 * len(data)))]\n",
    "loader = DataLoader(data, batch_size=64, sampler=sampler.SubsetRandomSampler(indices))"
   ]
  },
  {
   "cell_type": "code",
   "execution_count": 12,
   "id": "0c9b72b9",
   "metadata": {},
   "outputs": [
    {
     "data": {
      "text/plain": [
       "7"
      ]
     },
     "execution_count": 12,
     "metadata": {},
     "output_type": "execute_result"
    }
   ],
   "source": [
    "len(loader)"
   ]
  },
  {
   "cell_type": "code",
   "execution_count": 13,
   "id": "97c20bc1",
   "metadata": {},
   "outputs": [
    {
     "data": {
      "text/plain": [
       "EcgCNNGenerator(\n",
       "  (layer1): Sequential(\n",
       "    (0): ConvTranspose1d(100, 2048, kernel_size=(4,), stride=(1,), bias=False)\n",
       "    (1): InstanceNorm1d(2048, eps=1e-05, momentum=0.1, affine=False, track_running_stats=False)\n",
       "    (2): ReLU(inplace=True)\n",
       "  )\n",
       "  (layer2): Sequential(\n",
       "    (0): ConvTranspose1d(2048, 1024, kernel_size=(4,), stride=(1,), bias=False)\n",
       "    (1): InstanceNorm1d(1024, eps=1e-05, momentum=0.1, affine=False, track_running_stats=False)\n",
       "    (2): ReLU(inplace=True)\n",
       "  )\n",
       "  (layer3): Sequential(\n",
       "    (0): ConvTranspose1d(1024, 512, kernel_size=(4,), stride=(2,), padding=(1,), bias=False)\n",
       "    (1): InstanceNorm1d(512, eps=1e-05, momentum=0.1, affine=False, track_running_stats=False)\n",
       "    (2): ReLU(inplace=True)\n",
       "  )\n",
       "  (layer4): Sequential(\n",
       "    (0): ConvTranspose1d(512, 256, kernel_size=(3,), stride=(2,), padding=(1,), bias=False)\n",
       "    (1): InstanceNorm1d(256, eps=1e-05, momentum=0.1, affine=False, track_running_stats=False)\n",
       "    (2): ReLU(inplace=True)\n",
       "  )\n",
       "  (layer5): Sequential(\n",
       "    (0): ConvTranspose1d(256, 128, kernel_size=(4,), stride=(2,), padding=(1,), bias=False)\n",
       "    (1): InstanceNorm1d(128, eps=1e-05, momentum=0.1, affine=False, track_running_stats=False)\n",
       "    (2): ReLU(inplace=True)\n",
       "  )\n",
       "  (layer6): Sequential(\n",
       "    (0): ConvTranspose1d(128, 64, kernel_size=(4,), stride=(2,), padding=(1,), bias=False)\n",
       "    (1): InstanceNorm1d(64, eps=1e-05, momentum=0.1, affine=False, track_running_stats=False)\n",
       "    (2): ReLU(inplace=True)\n",
       "  )\n",
       "  (out): Sequential(\n",
       "    (0): ConvTranspose1d(64, 1, kernel_size=(4,), stride=(2,), padding=(1,), bias=False)\n",
       "  )\n",
       ")"
      ]
     },
     "execution_count": 13,
     "metadata": {},
     "output_type": "execute_result"
    }
   ],
   "source": [
    "model_dir = \"/Users/alainamahalanabis/Documents/GAN_XAI/src/results/ecg_final/ECGCNN_Normal_wgan/generator.pt\"\n",
    "model = EcgCNNGenerator()\n",
    "model.load_state_dict(torch.load(model_dir), strict=False)\n",
    "model.eval()"
   ]
  },
  {
   "cell_type": "code",
   "execution_count": 33,
   "id": "3ae9c8c6",
   "metadata": {},
   "outputs": [],
   "source": [
    "fake_ecg = model(randn(100, 100))"
   ]
  },
  {
   "cell_type": "code",
   "execution_count": 35,
   "id": "07fd8e11",
   "metadata": {},
   "outputs": [],
   "source": [
    "fake_ecg = fake_ecg.detach().numpy()"
   ]
  },
  {
   "cell_type": "code",
   "execution_count": 42,
   "id": "97ea35a9",
   "metadata": {},
   "outputs": [
    {
     "data": {
      "text/plain": [
       "<AxesSubplot:>"
      ]
     },
     "execution_count": 42,
     "metadata": {},
     "output_type": "execute_result"
    },
    {
     "data": {
      "image/png": "[encoded data removed]",
      "text/plain": [
       "<Figure size 432x288 with 1 Axes>"
      ]
     },
     "metadata": {
      "needs_background": "light"
     },
     "output_type": "display_data"
    }
   ],
   "source": [
    "sns.lineplot(x = range(1,217), y=fake_ecg[1,:].squeeze())"
   ]
  },
  {
   "cell_type": "code",
   "execution_count": null,
   "id": "092ae2b8",
   "metadata": {},
   "outputs": [],
   "source": []
  }
 ],
 "metadata": {
  "kernelspec": {
   "display_name": "Python 3 (ipykernel)",
   "language": "python",
   "name": "python3"
  },
  "language_info": {
   "codemirror_mode": {
    "name": "ipython",
    "version": 3
   },
   "file_extension": ".py",
   "mimetype": "text/x-python",
   "name": "python",
   "nbconvert_exporter": "python",
   "pygments_lexer": "ipython3",
   "version": "3.8.0"
  }
 },
 "nbformat": 4,
 "nbformat_minor": 5
}
